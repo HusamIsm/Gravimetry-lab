{
 "cells": [
  {
   "cell_type": "markdown",
   "metadata": {},
   "source": [
    "# Gravimetry Electronic Lab Book"
   ]
  },
  {
   "cell_type": "code",
   "execution_count": 1,
   "metadata": {},
   "outputs": [],
   "source": [
    "import numpy as np\n",
    "import matplotlib.pyplot as plt\n",
    "from scipy import stats"
   ]
  },
  {
   "cell_type": "markdown",
   "metadata": {},
   "source": [
    "## Theory\n",
    "The period of oscillation of a pendulum $T = 2 \\pi \\sqrt{\\frac{L}{g}}$\n",
    "\n",
    "So, we get $ g = \\frac{4 \\pi^2 L}{T^2}$. This works best if we have a very light pendulum, (here the calculation assumes the pendulum is massles). so using a string or thin wire is best. This also assumes small angles, and no air resistance."
   ]
  },
  {
   "cell_type": "markdown",
   "metadata": {},
   "source": [
    "## Experiment Procedures\n",
    "The simplest way would be to tie a mass to a string, measure the length (and uncertainty) then let it oscillate by displacing it w/ small angles. Repeat this for different string lengths.\n",
    "\n",
    "We can record the oscillation using a phone, then analyzing the footage with tracker. For calibration, we can use a meter ruler in the same plane as the oscillation."
   ]
  },
  {
   "cell_type": "markdown",
   "metadata": {},
   "source": [
    "## Error Analysis\n",
    "For direct measurements, such as that of the length of the string and the period we use the usual formulas for mean and standard deviation stats.mean(array) for the mean, stats.tstd(array) for the standard deviation.\n",
    "\n",
    "### $g$ Error Propogation\n",
    "here, we have $ \\sigma_g^2 = (\\frac{-8L \\pi^2}{T^3})^2 \\sigma_T^2 + (\\frac{4\\pi^2}{T^2}) ^2\\sigma_L^2$\n",
    "\n",
    "This was derived using the error propogation discussed in mathematical techniques class. It could be worth considering,after calculating g and it's standard deviation for each trial, we weight each value of g with $\\frac{1}{\\sigma_g^2}$ since if the standard deviation is lower, the uncertainty is lower."
   ]
  },
  {
   "cell_type": "code",
   "execution_count": 3,
   "metadata": {},
   "outputs": [],
   "source": [
    "#function for returning mean and standard deviation of an array\n",
    "def mean_std(a):\n",
    "    return stats.mean(a),stats.tstd(a)\n",
    "#given arrays of L, and T, return array of g\n",
    "def calc_g(L,T):\n",
    "    return (4*np.power(np.pi,)*L)/(np.power(T,2))\n",
    "#calculate the standard deviation of g\n",
    "def g_std(mean_l,std_l,mean_t,std_t):\n",
    "    a = np.power((-8*mean_l,np.power(np.pi,2))/(np.power(mean_t,3)),2)\n",
    "    b = np.power((4*np.power(np.pi,2))/(np.power(mean_t,2)))\n",
    "    return np.sqrt(a*np.power(std_t,2)+b*np.power(std_l))"
   ]
  }
 ],
 "metadata": {
  "kernelspec": {
   "display_name": "phys",
   "language": "python",
   "name": "python3"
  },
  "language_info": {
   "codemirror_mode": {
    "name": "ipython",
    "version": 3
   },
   "file_extension": ".py",
   "mimetype": "text/x-python",
   "name": "python",
   "nbconvert_exporter": "python",
   "pygments_lexer": "ipython3",
   "version": "3.11.5"
  },
  "orig_nbformat": 4
 },
 "nbformat": 4,
 "nbformat_minor": 2
}
